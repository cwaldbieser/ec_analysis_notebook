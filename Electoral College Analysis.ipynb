{
 "cells": [
  {
   "cell_type": "markdown",
   "metadata": {},
   "source": [
    "# Electoral College Analysis\n",
    "\n",
    "The number of electoral votes is based largely on the number of seats in Congress.  Most people understand how the size of the US Senate is determined-- 2 senators per state X 50 states == 100 senators.\n",
    "\n",
    "The size of the House of Representatives needs a bit more explaining.\n",
    "\n",
    "## The House of Representatives\n",
    "\n",
    "The House of Representatives is meant to be proportional in size to the population of the state.\n",
    "\n",
    "At the start of the Uninted States, there were only 65 seats in the House of Representatives.\n",
    "\n",
    "George Washington considered the ideal ratio of representatives to voters to be close to 1:30,000.\n",
    "\n",
    "As of 2016, the *average* ratio is closer to 1:700,000!\n",
    "\n",
    "### The Reappointment Act of 1929\n",
    "A combined census and reapportionment bill that sets the method for apportioning seats in the U.S. House of Representatives according to each census such that there are always 435 seats.\n",
    "\n",
    "A truly proportional division of seats would produce fractional seats, which doesn't work well for voting scenarios.\n",
    "But since the stakes are high, a formal process needs to be in place.  The process, called \"the method of equal proportions\" is:\n",
    "\n",
    "* Every state gets 1 seat to start.  This leaves 538 - 50 == 385 seats.\n",
    "* The *priority number* for each state is computed.\n",
    "* The state with the highest priority number is awarded a seat from those remaining.\n",
    "* The priority number for each state is recomputed, and the process repeats until all the seats have been awarded.\n",
    "\n",
    "The priority number for a state is computed as follows:\n",
    "$$A_n = \\frac{P}{\\sqrt{(n(n+1)}}$$\n",
    "\n",
    "Where $A_n$ is the priority number for a state that has $n$ seats, and $P$ is the population of the state.  The starting priority for each state is therefore:\n",
    "$$A_1 = \\frac{P}{\\sqrt{2}}$$\n",
    "\n",
    "\n",
    "## Electoral College Votes per State\n",
    "\n",
    "* Each state gets 1 EC vote for each member of congress.\n",
    "* 100 senators + 435 representatives + 3 for the District of Columbia (see the 23rd Amendment) = 538 electoral votes\n",
    "\n",
    "    \n",
    "\n",
    "\n",
    "  "
   ]
  },
  {
   "cell_type": "code",
   "execution_count": 122,
   "metadata": {
    "collapsed": true
   },
   "outputs": [],
   "source": [
    "import numpy as np\n",
    "import pandas as pd\n",
    "import matplotlib.pyplot as plt\n",
    "%matplotlib notebook"
   ]
  },
  {
   "cell_type": "code",
   "execution_count": 123,
   "metadata": {
    "collapsed": true
   },
   "outputs": [],
   "source": [
    "pd.options.display.float_format = '{:,.5f}'.format"
   ]
  },
  {
   "cell_type": "markdown",
   "metadata": {},
   "source": [
    "# The 2010 Census\n",
    "\n",
    "Data taken from:  https://www.census.gov/popest/data/datasets.html\n",
    "\n",
    "Section \"2010 Census Modified Race Data Summary File\""
   ]
  },
  {
   "cell_type": "code",
   "execution_count": 124,
   "metadata": {
    "collapsed": false
   },
   "outputs": [
    {
     "name": "stdout",
     "output_type": "stream",
     "text": [
      "              RESPOP\n",
      "STNAME              \n",
      "Alabama      4779736\n",
      "Alaska        710231\n",
      "Arizona      6392017\n",
      "Arkansas     2915918\n",
      "California  37253956\n",
      "                RESPOP\n",
      "STNAME                \n",
      "Virginia       8001024\n",
      "Washington     6724540\n",
      "West Virginia  1852994\n",
      "Wisconsin      5686986\n",
      "Wyoming         563626\n"
     ]
    }
   ],
   "source": [
    "df = pd.read_csv(\"stco-mr2010_al_mo.csv\", encoding=\"latin-1\")\n",
    "df = df[[\"STNAME\", \"RESPOP\"]]\n",
    "df = df.groupby(\"STNAME\").sum()\n",
    "df.head()\n",
    "\n",
    "df2 = pd.read_csv(\"stco-mr2010_mt_wy.csv\", encoding=\"latin-1\")\n",
    "df2 = df2[[\"STNAME\", \"RESPOP\"]]\n",
    "df2 = df2.groupby(\"STNAME\").sum()\n",
    "df2.head()\n",
    "\n",
    "pops = df.append(df2)\n",
    "del df\n",
    "del df2\n",
    "print(pops.head())\n",
    "print(pops.tail())"
   ]
  },
  {
   "cell_type": "code",
   "execution_count": 125,
   "metadata": {
    "collapsed": false
   },
   "outputs": [
    {
     "name": "stdout",
     "output_type": "stream",
     "text": [
      "Total US Population: 308,745,538\n"
     ]
    }
   ],
   "source": [
    "total_pop = pops.sum()[\"RESPOP\"]\n",
    "dc_pop = pops.at[\"District of Columbia\", \"RESPOP\"]\n",
    "total_state_pop = total_pop - dc_pop\n",
    "print(\"Total US Population: {:,}\".format(total_pop))"
   ]
  },
  {
   "cell_type": "markdown",
   "metadata": {},
   "source": [
    "If House seats were divided exactly proportionally to state populations ..."
   ]
  },
  {
   "cell_type": "code",
   "execution_count": 126,
   "metadata": {
    "collapsed": false
   },
   "outputs": [
    {
     "data": {
      "text/html": [
       "<div>\n",
       "<table border=\"1\" class=\"dataframe\">\n",
       "  <thead>\n",
       "    <tr style=\"text-align: right;\">\n",
       "      <th></th>\n",
       "      <th>RESPOP</th>\n",
       "      <th>Fractional Reps</th>\n",
       "    </tr>\n",
       "    <tr>\n",
       "      <th>STNAME</th>\n",
       "      <th></th>\n",
       "      <th></th>\n",
       "    </tr>\n",
       "  </thead>\n",
       "  <tbody>\n",
       "    <tr>\n",
       "      <th>Alabama</th>\n",
       "      <td>4779736</td>\n",
       "      <td>6.74745</td>\n",
       "    </tr>\n",
       "    <tr>\n",
       "      <th>Alaska</th>\n",
       "      <td>710231</td>\n",
       "      <td>1.00262</td>\n",
       "    </tr>\n",
       "    <tr>\n",
       "      <th>Arizona</th>\n",
       "      <td>6392017</td>\n",
       "      <td>9.02347</td>\n",
       "    </tr>\n",
       "    <tr>\n",
       "      <th>Arkansas</th>\n",
       "      <td>2915918</td>\n",
       "      <td>4.11634</td>\n",
       "    </tr>\n",
       "    <tr>\n",
       "      <th>California</th>\n",
       "      <td>37253956</td>\n",
       "      <td>52.59061</td>\n",
       "    </tr>\n",
       "  </tbody>\n",
       "</table>\n",
       "</div>"
      ],
      "text/plain": [
       "              RESPOP  Fractional Reps\n",
       "STNAME                               \n",
       "Alabama      4779736          6.74745\n",
       "Alaska        710231          1.00262\n",
       "Arizona      6392017          9.02347\n",
       "Arkansas     2915918          4.11634\n",
       "California  37253956         52.59061"
      ]
     },
     "execution_count": 126,
     "metadata": {},
     "output_type": "execute_result"
    }
   ],
   "source": [
    "pops[\"Fractional Reps\"] = (pops[\"RESPOP\"] / total_state_pop) * 435.0\n",
    "pops.head()"
   ]
  },
  {
   "cell_type": "markdown",
   "metadata": {},
   "source": [
    "## Implementation of the method of equal proportions"
   ]
  },
  {
   "cell_type": "code",
   "execution_count": 127,
   "metadata": {
    "collapsed": false
   },
   "outputs": [],
   "source": [
    "import math\n",
    "\n",
    "states = list(pops.index)\n",
    "idx = states.index(\"District of Columbia\")\n",
    "states = states[0:idx] + states[idx+1:]\n",
    "state_seats = {}\n",
    "for state in states:\n",
    "    state_seats[state] = 1\n",
    "seats_remaining = 435 - 50\n",
    "while seats_remaining > 0:\n",
    "    max_priority = -1\n",
    "    winning_state = None\n",
    "    for state in states:\n",
    "        pop = pops.at[state, \"RESPOP\"]\n",
    "        n = state_seats[state]\n",
    "        priority = pop / math.sqrt(n * (n + 1))\n",
    "        if priority > max_priority:\n",
    "            max_priority = priority\n",
    "            winning_state = state\n",
    "    n = state_seats[winning_state]\n",
    "    n = n + 1\n",
    "    seats_remaining = seats_remaining - 1\n",
    "    state_seats[winning_state] = n"
   ]
  },
  {
   "cell_type": "markdown",
   "metadata": {},
   "source": [
    "### Convert the results from above into a DataFrame"
   ]
  },
  {
   "cell_type": "code",
   "execution_count": 128,
   "metadata": {
    "collapsed": false
   },
   "outputs": [
    {
     "data": {
      "text/html": [
       "<div>\n",
       "<table border=\"1\" class=\"dataframe\">\n",
       "  <thead>\n",
       "    <tr style=\"text-align: right;\">\n",
       "      <th></th>\n",
       "      <th>Seats</th>\n",
       "    </tr>\n",
       "  </thead>\n",
       "  <tbody>\n",
       "    <tr>\n",
       "      <th>Florida</th>\n",
       "      <td>27</td>\n",
       "    </tr>\n",
       "    <tr>\n",
       "      <th>Minnesota</th>\n",
       "      <td>8</td>\n",
       "    </tr>\n",
       "    <tr>\n",
       "      <th>Kansas</th>\n",
       "      <td>4</td>\n",
       "    </tr>\n",
       "    <tr>\n",
       "      <th>New Hampshire</th>\n",
       "      <td>2</td>\n",
       "    </tr>\n",
       "    <tr>\n",
       "      <th>Missouri</th>\n",
       "      <td>8</td>\n",
       "    </tr>\n",
       "  </tbody>\n",
       "</table>\n",
       "</div>"
      ],
      "text/plain": [
       "               Seats\n",
       "Florida           27\n",
       "Minnesota          8\n",
       "Kansas             4\n",
       "New Hampshire      2\n",
       "Missouri           8"
      ]
     },
     "execution_count": 128,
     "metadata": {},
     "output_type": "execute_result"
    }
   ],
   "source": [
    "d = dict([(state, [state_seats[state]]) for state in states])\n",
    "awarded = pd.DataFrame.from_dict(d, orient='index')\n",
    "awarded.rename(columns={0: \"Seats\"}, inplace=True)\n",
    "awarded.head()"
   ]
  },
  {
   "cell_type": "markdown",
   "metadata": {},
   "source": [
    "### Join the results to the main DataFrame"
   ]
  },
  {
   "cell_type": "code",
   "execution_count": 129,
   "metadata": {
    "collapsed": false
   },
   "outputs": [
    {
     "data": {
      "text/html": [
       "<div>\n",
       "<table border=\"1\" class=\"dataframe\">\n",
       "  <thead>\n",
       "    <tr style=\"text-align: right;\">\n",
       "      <th></th>\n",
       "      <th>RESPOP</th>\n",
       "      <th>Fractional Reps</th>\n",
       "      <th>Seats</th>\n",
       "    </tr>\n",
       "  </thead>\n",
       "  <tbody>\n",
       "    <tr>\n",
       "      <th>Florida</th>\n",
       "      <td>18801310</td>\n",
       "      <td>26.54141</td>\n",
       "      <td>27</td>\n",
       "    </tr>\n",
       "    <tr>\n",
       "      <th>Minnesota</th>\n",
       "      <td>5303925</td>\n",
       "      <td>7.48744</td>\n",
       "      <td>8</td>\n",
       "    </tr>\n",
       "    <tr>\n",
       "      <th>Kansas</th>\n",
       "      <td>2853118</td>\n",
       "      <td>4.02769</td>\n",
       "      <td>4</td>\n",
       "    </tr>\n",
       "    <tr>\n",
       "      <th>New Hampshire</th>\n",
       "      <td>1316470</td>\n",
       "      <td>1.85843</td>\n",
       "      <td>2</td>\n",
       "    </tr>\n",
       "    <tr>\n",
       "      <th>Missouri</th>\n",
       "      <td>5988927</td>\n",
       "      <td>8.45444</td>\n",
       "      <td>8</td>\n",
       "    </tr>\n",
       "  </tbody>\n",
       "</table>\n",
       "</div>"
      ],
      "text/plain": [
       "                 RESPOP  Fractional Reps  Seats\n",
       "Florida        18801310         26.54141     27\n",
       "Minnesota       5303925          7.48744      8\n",
       "Kansas          2853118          4.02769      4\n",
       "New Hampshire   1316470          1.85843      2\n",
       "Missouri        5988927          8.45444      8"
      ]
     },
     "execution_count": 129,
     "metadata": {},
     "output_type": "execute_result"
    }
   ],
   "source": [
    "df = pd.merge(pops, awarded, left_index=True, right_index=True)\n",
    "df.head()"
   ]
  },
  {
   "cell_type": "markdown",
   "metadata": {},
   "source": [
    "### A quick check to make sure the seats and fractions both add up to 435 ..."
   ]
  },
  {
   "cell_type": "code",
   "execution_count": 130,
   "metadata": {
    "collapsed": false
   },
   "outputs": [
    {
     "data": {
      "text/plain": [
       "RESPOP            308,143,815.00000\n",
       "Fractional Reps           435.00000\n",
       "Seats                     435.00000\n",
       "dtype: float64"
      ]
     },
     "execution_count": 130,
     "metadata": {},
     "output_type": "execute_result"
    }
   ],
   "source": [
    "df.sum()"
   ]
  },
  {
   "cell_type": "markdown",
   "metadata": {},
   "source": [
    "### Add the senate seats to get the EC votes per state"
   ]
  },
  {
   "cell_type": "code",
   "execution_count": 131,
   "metadata": {
    "collapsed": true
   },
   "outputs": [],
   "source": [
    "df[\"EC Votes\"] = df[\"Seats\"] + 2"
   ]
  },
  {
   "cell_type": "markdown",
   "metadata": {},
   "source": [
    "### Add a row for Washington D.C. and give it 3 Electoral Votes"
   ]
  },
  {
   "cell_type": "code",
   "execution_count": 132,
   "metadata": {
    "collapsed": true
   },
   "outputs": [],
   "source": [
    "s = pd.Series({\n",
    "            \"RESPOP\": dc_pop,\n",
    "            \"EC Votes\": 3\n",
    "        }, name=\"District of Columbia\")\n",
    "df = df.append(s)"
   ]
  },
  {
   "cell_type": "markdown",
   "metadata": {},
   "source": [
    "### Compute the fraction of EC votes for each entry, and its fraction of the total population."
   ]
  },
  {
   "cell_type": "code",
   "execution_count": 133,
   "metadata": {
    "collapsed": false
   },
   "outputs": [],
   "source": [
    "df[\"Fraction EC Votes\"] = df[\"EC Votes\"] / 538.0\n",
    "df[\"Fraction Total Pop\"] = df[\"RESPOP\"] / total_pop\n"
   ]
  },
  {
   "cell_type": "markdown",
   "metadata": {},
   "source": [
    "### Another tally so we can make sure the fractions add up.\n"
   ]
  },
  {
   "cell_type": "code",
   "execution_count": 134,
   "metadata": {
    "collapsed": false
   },
   "outputs": [
    {
     "data": {
      "text/plain": [
       "RESPOP               308,745,538.00000\n",
       "Fractional Reps              435.00000\n",
       "Seats                        435.00000\n",
       "EC Votes                     538.00000\n",
       "Fraction EC Votes              1.00000\n",
       "Fraction Total Pop             1.00000\n",
       "dtype: float64"
      ]
     },
     "execution_count": 134,
     "metadata": {},
     "output_type": "execute_result"
    }
   ],
   "source": [
    "df.sum()\n",
    "\n"
   ]
  },
  {
   "cell_type": "markdown",
   "metadata": {
    "collapsed": true
   },
   "source": [
    "## Analysis\n",
    "\n",
    "The chart below is arranged from the state with the highest population to the state with the least population (the District of Columbia is also included).  State population is based on the 2010 census.\n",
    "\n",
    "The *RESPOP* column is the residential population of the state.\n",
    "\n",
    "*Fractional Reps* is the number of seats in the House of Representatives a state would receive if the seats could be fractional.  *Seats* shows the actual number of seats awarded, which never appears to be more than 1 away from the fraction that would be awarded.  For some states, this means the gain of a seat, while for others it means a loss, but it is relatively close to the actual proportion.\n",
    "\n",
    "*EC Votes* shows the number of electoral votes each state is awarded.  This is equal to the number of seats it has in the House, plus 2 seats in the senate.  The exception is the District of Columbia, which just gets 3 EC votes flat out, with no regard to its population.\n",
    "\n",
    "*Fraction EC Votes* shows the fraction of EC votes the state has with respect to the total 538 votes.  This shows that California has a little over 10% of all the EC votes.\n",
    "\n",
    "*Fraction Total Pop* shows the fraction of the states's population with respect to the total US population (considering only the 50 states and the Disrtict of Columbia).  This shows that California has a little over 12% of the total US population.\n",
    "\n",
    "One of the arguments I often hear in favor of the EC is that it prevents populous states from dominating the election.  Looking at the last 2 columns of this table, I'd argue that this does not appear to be the case.  \n",
    "\n",
    "I'm going to make the assumption that a state's population is directly proportional to it's voting population, which may not be entirely accurate.  I might try to get eligible voter data and refine my results a bit.\n",
    "\n",
    "The fact that every state gets 2 EC votes for its senators does skew the votes a little in favor of states with small populations.  Wyoming gets a 0.6% of the vote in the EC instead of 0.2% of the vote in a popular election.  However, it still has a tiny fraction of the overall vote compared to California, with gets 10% of the EC vote or 12% of the popular vote.  This is due to the fact that the EC votes a state gets are largely dominated by its seats in the House, which are based on residential population.\n",
    "\n",
    "Going back to my earlier assumption, if the population of a state were incredily skewed to citizens too young to vote (i.e. most of the population was under 18), then the EC would actually benefit that state, as House seats are awarded based on population, not just *voter* population.\n"
   ]
  },
  {
   "cell_type": "code",
   "execution_count": 135,
   "metadata": {
    "collapsed": false
   },
   "outputs": [
    {
     "data": {
      "text/html": [
       "<div>\n",
       "<table border=\"1\" class=\"dataframe\">\n",
       "  <thead>\n",
       "    <tr style=\"text-align: right;\">\n",
       "      <th></th>\n",
       "      <th>RESPOP</th>\n",
       "      <th>Fractional Reps</th>\n",
       "      <th>Seats</th>\n",
       "      <th>EC Votes</th>\n",
       "      <th>Fraction EC Votes</th>\n",
       "      <th>Fraction Total Pop</th>\n",
       "    </tr>\n",
       "  </thead>\n",
       "  <tbody>\n",
       "    <tr>\n",
       "      <th>California</th>\n",
       "      <td>37,253,956.00000</td>\n",
       "      <td>52.59061</td>\n",
       "      <td>53.00000</td>\n",
       "      <td>55.00000</td>\n",
       "      <td>0.10223</td>\n",
       "      <td>0.12066</td>\n",
       "    </tr>\n",
       "    <tr>\n",
       "      <th>Texas</th>\n",
       "      <td>25,145,561.00000</td>\n",
       "      <td>35.49745</td>\n",
       "      <td>36.00000</td>\n",
       "      <td>38.00000</td>\n",
       "      <td>0.07063</td>\n",
       "      <td>0.08144</td>\n",
       "    </tr>\n",
       "    <tr>\n",
       "      <th>New York</th>\n",
       "      <td>19,378,102.00000</td>\n",
       "      <td>27.35565</td>\n",
       "      <td>27.00000</td>\n",
       "      <td>29.00000</td>\n",
       "      <td>0.05390</td>\n",
       "      <td>0.06276</td>\n",
       "    </tr>\n",
       "    <tr>\n",
       "      <th>Florida</th>\n",
       "      <td>18,801,310.00000</td>\n",
       "      <td>26.54141</td>\n",
       "      <td>27.00000</td>\n",
       "      <td>29.00000</td>\n",
       "      <td>0.05390</td>\n",
       "      <td>0.06090</td>\n",
       "    </tr>\n",
       "    <tr>\n",
       "      <th>Illinois</th>\n",
       "      <td>12,830,632.00000</td>\n",
       "      <td>18.11273</td>\n",
       "      <td>18.00000</td>\n",
       "      <td>20.00000</td>\n",
       "      <td>0.03717</td>\n",
       "      <td>0.04156</td>\n",
       "    </tr>\n",
       "    <tr>\n",
       "      <th>Pennsylvania</th>\n",
       "      <td>12,702,379.00000</td>\n",
       "      <td>17.93168</td>\n",
       "      <td>18.00000</td>\n",
       "      <td>20.00000</td>\n",
       "      <td>0.03717</td>\n",
       "      <td>0.04114</td>\n",
       "    </tr>\n",
       "    <tr>\n",
       "      <th>Ohio</th>\n",
       "      <td>11,536,504.00000</td>\n",
       "      <td>16.28583</td>\n",
       "      <td>16.00000</td>\n",
       "      <td>18.00000</td>\n",
       "      <td>0.03346</td>\n",
       "      <td>0.03737</td>\n",
       "    </tr>\n",
       "    <tr>\n",
       "      <th>Michigan</th>\n",
       "      <td>9,883,640.00000</td>\n",
       "      <td>13.95252</td>\n",
       "      <td>14.00000</td>\n",
       "      <td>16.00000</td>\n",
       "      <td>0.02974</td>\n",
       "      <td>0.03201</td>\n",
       "    </tr>\n",
       "    <tr>\n",
       "      <th>Georgia</th>\n",
       "      <td>9,687,653.00000</td>\n",
       "      <td>13.67585</td>\n",
       "      <td>14.00000</td>\n",
       "      <td>16.00000</td>\n",
       "      <td>0.02974</td>\n",
       "      <td>0.03138</td>\n",
       "    </tr>\n",
       "    <tr>\n",
       "      <th>North Carolina</th>\n",
       "      <td>9,535,483.00000</td>\n",
       "      <td>13.46104</td>\n",
       "      <td>13.00000</td>\n",
       "      <td>15.00000</td>\n",
       "      <td>0.02788</td>\n",
       "      <td>0.03088</td>\n",
       "    </tr>\n",
       "    <tr>\n",
       "      <th>New Jersey</th>\n",
       "      <td>8,791,894.00000</td>\n",
       "      <td>12.41133</td>\n",
       "      <td>12.00000</td>\n",
       "      <td>14.00000</td>\n",
       "      <td>0.02602</td>\n",
       "      <td>0.02848</td>\n",
       "    </tr>\n",
       "    <tr>\n",
       "      <th>Virginia</th>\n",
       "      <td>8,001,024.00000</td>\n",
       "      <td>11.29487</td>\n",
       "      <td>11.00000</td>\n",
       "      <td>13.00000</td>\n",
       "      <td>0.02416</td>\n",
       "      <td>0.02591</td>\n",
       "    </tr>\n",
       "    <tr>\n",
       "      <th>Washington</th>\n",
       "      <td>6,724,540.00000</td>\n",
       "      <td>9.49289</td>\n",
       "      <td>10.00000</td>\n",
       "      <td>12.00000</td>\n",
       "      <td>0.02230</td>\n",
       "      <td>0.02178</td>\n",
       "    </tr>\n",
       "    <tr>\n",
       "      <th>Massachusetts</th>\n",
       "      <td>6,547,629.00000</td>\n",
       "      <td>9.24315</td>\n",
       "      <td>9.00000</td>\n",
       "      <td>11.00000</td>\n",
       "      <td>0.02045</td>\n",
       "      <td>0.02121</td>\n",
       "    </tr>\n",
       "    <tr>\n",
       "      <th>Indiana</th>\n",
       "      <td>6,483,802.00000</td>\n",
       "      <td>9.15304</td>\n",
       "      <td>9.00000</td>\n",
       "      <td>11.00000</td>\n",
       "      <td>0.02045</td>\n",
       "      <td>0.02100</td>\n",
       "    </tr>\n",
       "    <tr>\n",
       "      <th>Arizona</th>\n",
       "      <td>6,392,017.00000</td>\n",
       "      <td>9.02347</td>\n",
       "      <td>9.00000</td>\n",
       "      <td>11.00000</td>\n",
       "      <td>0.02045</td>\n",
       "      <td>0.02070</td>\n",
       "    </tr>\n",
       "    <tr>\n",
       "      <th>Tennessee</th>\n",
       "      <td>6,346,105.00000</td>\n",
       "      <td>8.95866</td>\n",
       "      <td>9.00000</td>\n",
       "      <td>11.00000</td>\n",
       "      <td>0.02045</td>\n",
       "      <td>0.02055</td>\n",
       "    </tr>\n",
       "    <tr>\n",
       "      <th>Missouri</th>\n",
       "      <td>5,988,927.00000</td>\n",
       "      <td>8.45444</td>\n",
       "      <td>8.00000</td>\n",
       "      <td>10.00000</td>\n",
       "      <td>0.01859</td>\n",
       "      <td>0.01940</td>\n",
       "    </tr>\n",
       "    <tr>\n",
       "      <th>Maryland</th>\n",
       "      <td>5,773,552.00000</td>\n",
       "      <td>8.15040</td>\n",
       "      <td>8.00000</td>\n",
       "      <td>10.00000</td>\n",
       "      <td>0.01859</td>\n",
       "      <td>0.01870</td>\n",
       "    </tr>\n",
       "    <tr>\n",
       "      <th>Wisconsin</th>\n",
       "      <td>5,686,986.00000</td>\n",
       "      <td>8.02820</td>\n",
       "      <td>8.00000</td>\n",
       "      <td>10.00000</td>\n",
       "      <td>0.01859</td>\n",
       "      <td>0.01842</td>\n",
       "    </tr>\n",
       "    <tr>\n",
       "      <th>Minnesota</th>\n",
       "      <td>5,303,925.00000</td>\n",
       "      <td>7.48744</td>\n",
       "      <td>8.00000</td>\n",
       "      <td>10.00000</td>\n",
       "      <td>0.01859</td>\n",
       "      <td>0.01718</td>\n",
       "    </tr>\n",
       "    <tr>\n",
       "      <th>Colorado</th>\n",
       "      <td>5,029,196.00000</td>\n",
       "      <td>7.09961</td>\n",
       "      <td>7.00000</td>\n",
       "      <td>9.00000</td>\n",
       "      <td>0.01673</td>\n",
       "      <td>0.01629</td>\n",
       "    </tr>\n",
       "    <tr>\n",
       "      <th>Alabama</th>\n",
       "      <td>4,779,736.00000</td>\n",
       "      <td>6.74745</td>\n",
       "      <td>7.00000</td>\n",
       "      <td>9.00000</td>\n",
       "      <td>0.01673</td>\n",
       "      <td>0.01548</td>\n",
       "    </tr>\n",
       "    <tr>\n",
       "      <th>South Carolina</th>\n",
       "      <td>4,625,364.00000</td>\n",
       "      <td>6.52953</td>\n",
       "      <td>7.00000</td>\n",
       "      <td>9.00000</td>\n",
       "      <td>0.01673</td>\n",
       "      <td>0.01498</td>\n",
       "    </tr>\n",
       "    <tr>\n",
       "      <th>Louisiana</th>\n",
       "      <td>4,533,372.00000</td>\n",
       "      <td>6.39966</td>\n",
       "      <td>6.00000</td>\n",
       "      <td>8.00000</td>\n",
       "      <td>0.01487</td>\n",
       "      <td>0.01468</td>\n",
       "    </tr>\n",
       "    <tr>\n",
       "      <th>Kentucky</th>\n",
       "      <td>4,339,367.00000</td>\n",
       "      <td>6.12579</td>\n",
       "      <td>6.00000</td>\n",
       "      <td>8.00000</td>\n",
       "      <td>0.01487</td>\n",
       "      <td>0.01405</td>\n",
       "    </tr>\n",
       "    <tr>\n",
       "      <th>Oregon</th>\n",
       "      <td>3,831,074.00000</td>\n",
       "      <td>5.40824</td>\n",
       "      <td>5.00000</td>\n",
       "      <td>7.00000</td>\n",
       "      <td>0.01301</td>\n",
       "      <td>0.01241</td>\n",
       "    </tr>\n",
       "    <tr>\n",
       "      <th>Oklahoma</th>\n",
       "      <td>3,751,351.00000</td>\n",
       "      <td>5.29570</td>\n",
       "      <td>5.00000</td>\n",
       "      <td>7.00000</td>\n",
       "      <td>0.01301</td>\n",
       "      <td>0.01215</td>\n",
       "    </tr>\n",
       "    <tr>\n",
       "      <th>Connecticut</th>\n",
       "      <td>3,574,097.00000</td>\n",
       "      <td>5.04548</td>\n",
       "      <td>5.00000</td>\n",
       "      <td>7.00000</td>\n",
       "      <td>0.01301</td>\n",
       "      <td>0.01158</td>\n",
       "    </tr>\n",
       "    <tr>\n",
       "      <th>Iowa</th>\n",
       "      <td>3,046,355.00000</td>\n",
       "      <td>4.30047</td>\n",
       "      <td>4.00000</td>\n",
       "      <td>6.00000</td>\n",
       "      <td>0.01115</td>\n",
       "      <td>0.00987</td>\n",
       "    </tr>\n",
       "    <tr>\n",
       "      <th>Mississippi</th>\n",
       "      <td>2,967,297.00000</td>\n",
       "      <td>4.18887</td>\n",
       "      <td>4.00000</td>\n",
       "      <td>6.00000</td>\n",
       "      <td>0.01115</td>\n",
       "      <td>0.00961</td>\n",
       "    </tr>\n",
       "    <tr>\n",
       "      <th>Arkansas</th>\n",
       "      <td>2,915,918.00000</td>\n",
       "      <td>4.11634</td>\n",
       "      <td>4.00000</td>\n",
       "      <td>6.00000</td>\n",
       "      <td>0.01115</td>\n",
       "      <td>0.00944</td>\n",
       "    </tr>\n",
       "    <tr>\n",
       "      <th>Kansas</th>\n",
       "      <td>2,853,118.00000</td>\n",
       "      <td>4.02769</td>\n",
       "      <td>4.00000</td>\n",
       "      <td>6.00000</td>\n",
       "      <td>0.01115</td>\n",
       "      <td>0.00924</td>\n",
       "    </tr>\n",
       "    <tr>\n",
       "      <th>Utah</th>\n",
       "      <td>2,763,885.00000</td>\n",
       "      <td>3.90172</td>\n",
       "      <td>4.00000</td>\n",
       "      <td>6.00000</td>\n",
       "      <td>0.01115</td>\n",
       "      <td>0.00895</td>\n",
       "    </tr>\n",
       "    <tr>\n",
       "      <th>Nevada</th>\n",
       "      <td>2,700,551.00000</td>\n",
       "      <td>3.81231</td>\n",
       "      <td>4.00000</td>\n",
       "      <td>6.00000</td>\n",
       "      <td>0.01115</td>\n",
       "      <td>0.00875</td>\n",
       "    </tr>\n",
       "    <tr>\n",
       "      <th>New Mexico</th>\n",
       "      <td>2,059,179.00000</td>\n",
       "      <td>2.90690</td>\n",
       "      <td>3.00000</td>\n",
       "      <td>5.00000</td>\n",
       "      <td>0.00929</td>\n",
       "      <td>0.00667</td>\n",
       "    </tr>\n",
       "    <tr>\n",
       "      <th>West Virginia</th>\n",
       "      <td>1,852,994.00000</td>\n",
       "      <td>2.61583</td>\n",
       "      <td>3.00000</td>\n",
       "      <td>5.00000</td>\n",
       "      <td>0.00929</td>\n",
       "      <td>0.00600</td>\n",
       "    </tr>\n",
       "    <tr>\n",
       "      <th>Nebraska</th>\n",
       "      <td>1,826,341.00000</td>\n",
       "      <td>2.57821</td>\n",
       "      <td>3.00000</td>\n",
       "      <td>5.00000</td>\n",
       "      <td>0.00929</td>\n",
       "      <td>0.00592</td>\n",
       "    </tr>\n",
       "    <tr>\n",
       "      <th>Idaho</th>\n",
       "      <td>1,567,582.00000</td>\n",
       "      <td>2.21292</td>\n",
       "      <td>2.00000</td>\n",
       "      <td>4.00000</td>\n",
       "      <td>0.00743</td>\n",
       "      <td>0.00508</td>\n",
       "    </tr>\n",
       "    <tr>\n",
       "      <th>Hawaii</th>\n",
       "      <td>1,360,301.00000</td>\n",
       "      <td>1.92031</td>\n",
       "      <td>2.00000</td>\n",
       "      <td>4.00000</td>\n",
       "      <td>0.00743</td>\n",
       "      <td>0.00441</td>\n",
       "    </tr>\n",
       "    <tr>\n",
       "      <th>Maine</th>\n",
       "      <td>1,328,361.00000</td>\n",
       "      <td>1.87522</td>\n",
       "      <td>2.00000</td>\n",
       "      <td>4.00000</td>\n",
       "      <td>0.00743</td>\n",
       "      <td>0.00430</td>\n",
       "    </tr>\n",
       "    <tr>\n",
       "      <th>New Hampshire</th>\n",
       "      <td>1,316,470.00000</td>\n",
       "      <td>1.85843</td>\n",
       "      <td>2.00000</td>\n",
       "      <td>4.00000</td>\n",
       "      <td>0.00743</td>\n",
       "      <td>0.00426</td>\n",
       "    </tr>\n",
       "    <tr>\n",
       "      <th>Rhode Island</th>\n",
       "      <td>1,052,567.00000</td>\n",
       "      <td>1.48589</td>\n",
       "      <td>2.00000</td>\n",
       "      <td>4.00000</td>\n",
       "      <td>0.00743</td>\n",
       "      <td>0.00341</td>\n",
       "    </tr>\n",
       "    <tr>\n",
       "      <th>Montana</th>\n",
       "      <td>989,415.00000</td>\n",
       "      <td>1.39674</td>\n",
       "      <td>1.00000</td>\n",
       "      <td>3.00000</td>\n",
       "      <td>0.00558</td>\n",
       "      <td>0.00320</td>\n",
       "    </tr>\n",
       "    <tr>\n",
       "      <th>Delaware</th>\n",
       "      <td>897,934.00000</td>\n",
       "      <td>1.26759</td>\n",
       "      <td>1.00000</td>\n",
       "      <td>3.00000</td>\n",
       "      <td>0.00558</td>\n",
       "      <td>0.00291</td>\n",
       "    </tr>\n",
       "    <tr>\n",
       "      <th>South Dakota</th>\n",
       "      <td>814,180.00000</td>\n",
       "      <td>1.14936</td>\n",
       "      <td>1.00000</td>\n",
       "      <td>3.00000</td>\n",
       "      <td>0.00558</td>\n",
       "      <td>0.00264</td>\n",
       "    </tr>\n",
       "    <tr>\n",
       "      <th>Alaska</th>\n",
       "      <td>710,231.00000</td>\n",
       "      <td>1.00262</td>\n",
       "      <td>1.00000</td>\n",
       "      <td>3.00000</td>\n",
       "      <td>0.00558</td>\n",
       "      <td>0.00230</td>\n",
       "    </tr>\n",
       "    <tr>\n",
       "      <th>North Dakota</th>\n",
       "      <td>672,591.00000</td>\n",
       "      <td>0.94948</td>\n",
       "      <td>1.00000</td>\n",
       "      <td>3.00000</td>\n",
       "      <td>0.00558</td>\n",
       "      <td>0.00218</td>\n",
       "    </tr>\n",
       "    <tr>\n",
       "      <th>Vermont</th>\n",
       "      <td>625,741.00000</td>\n",
       "      <td>0.88335</td>\n",
       "      <td>1.00000</td>\n",
       "      <td>3.00000</td>\n",
       "      <td>0.00558</td>\n",
       "      <td>0.00203</td>\n",
       "    </tr>\n",
       "    <tr>\n",
       "      <th>District of Columbia</th>\n",
       "      <td>601,723.00000</td>\n",
       "      <td>nan</td>\n",
       "      <td>nan</td>\n",
       "      <td>3.00000</td>\n",
       "      <td>0.00558</td>\n",
       "      <td>0.00195</td>\n",
       "    </tr>\n",
       "    <tr>\n",
       "      <th>Wyoming</th>\n",
       "      <td>563,626.00000</td>\n",
       "      <td>0.79566</td>\n",
       "      <td>1.00000</td>\n",
       "      <td>3.00000</td>\n",
       "      <td>0.00558</td>\n",
       "      <td>0.00183</td>\n",
       "    </tr>\n",
       "  </tbody>\n",
       "</table>\n",
       "</div>"
      ],
      "text/plain": [
       "                               RESPOP  Fractional Reps    Seats  EC Votes  \\\n",
       "California           37,253,956.00000         52.59061 53.00000  55.00000   \n",
       "Texas                25,145,561.00000         35.49745 36.00000  38.00000   \n",
       "New York             19,378,102.00000         27.35565 27.00000  29.00000   \n",
       "Florida              18,801,310.00000         26.54141 27.00000  29.00000   \n",
       "Illinois             12,830,632.00000         18.11273 18.00000  20.00000   \n",
       "Pennsylvania         12,702,379.00000         17.93168 18.00000  20.00000   \n",
       "Ohio                 11,536,504.00000         16.28583 16.00000  18.00000   \n",
       "Michigan              9,883,640.00000         13.95252 14.00000  16.00000   \n",
       "Georgia               9,687,653.00000         13.67585 14.00000  16.00000   \n",
       "North Carolina        9,535,483.00000         13.46104 13.00000  15.00000   \n",
       "New Jersey            8,791,894.00000         12.41133 12.00000  14.00000   \n",
       "Virginia              8,001,024.00000         11.29487 11.00000  13.00000   \n",
       "Washington            6,724,540.00000          9.49289 10.00000  12.00000   \n",
       "Massachusetts         6,547,629.00000          9.24315  9.00000  11.00000   \n",
       "Indiana               6,483,802.00000          9.15304  9.00000  11.00000   \n",
       "Arizona               6,392,017.00000          9.02347  9.00000  11.00000   \n",
       "Tennessee             6,346,105.00000          8.95866  9.00000  11.00000   \n",
       "Missouri              5,988,927.00000          8.45444  8.00000  10.00000   \n",
       "Maryland              5,773,552.00000          8.15040  8.00000  10.00000   \n",
       "Wisconsin             5,686,986.00000          8.02820  8.00000  10.00000   \n",
       "Minnesota             5,303,925.00000          7.48744  8.00000  10.00000   \n",
       "Colorado              5,029,196.00000          7.09961  7.00000   9.00000   \n",
       "Alabama               4,779,736.00000          6.74745  7.00000   9.00000   \n",
       "South Carolina        4,625,364.00000          6.52953  7.00000   9.00000   \n",
       "Louisiana             4,533,372.00000          6.39966  6.00000   8.00000   \n",
       "Kentucky              4,339,367.00000          6.12579  6.00000   8.00000   \n",
       "Oregon                3,831,074.00000          5.40824  5.00000   7.00000   \n",
       "Oklahoma              3,751,351.00000          5.29570  5.00000   7.00000   \n",
       "Connecticut           3,574,097.00000          5.04548  5.00000   7.00000   \n",
       "Iowa                  3,046,355.00000          4.30047  4.00000   6.00000   \n",
       "Mississippi           2,967,297.00000          4.18887  4.00000   6.00000   \n",
       "Arkansas              2,915,918.00000          4.11634  4.00000   6.00000   \n",
       "Kansas                2,853,118.00000          4.02769  4.00000   6.00000   \n",
       "Utah                  2,763,885.00000          3.90172  4.00000   6.00000   \n",
       "Nevada                2,700,551.00000          3.81231  4.00000   6.00000   \n",
       "New Mexico            2,059,179.00000          2.90690  3.00000   5.00000   \n",
       "West Virginia         1,852,994.00000          2.61583  3.00000   5.00000   \n",
       "Nebraska              1,826,341.00000          2.57821  3.00000   5.00000   \n",
       "Idaho                 1,567,582.00000          2.21292  2.00000   4.00000   \n",
       "Hawaii                1,360,301.00000          1.92031  2.00000   4.00000   \n",
       "Maine                 1,328,361.00000          1.87522  2.00000   4.00000   \n",
       "New Hampshire         1,316,470.00000          1.85843  2.00000   4.00000   \n",
       "Rhode Island          1,052,567.00000          1.48589  2.00000   4.00000   \n",
       "Montana                 989,415.00000          1.39674  1.00000   3.00000   \n",
       "Delaware                897,934.00000          1.26759  1.00000   3.00000   \n",
       "South Dakota            814,180.00000          1.14936  1.00000   3.00000   \n",
       "Alaska                  710,231.00000          1.00262  1.00000   3.00000   \n",
       "North Dakota            672,591.00000          0.94948  1.00000   3.00000   \n",
       "Vermont                 625,741.00000          0.88335  1.00000   3.00000   \n",
       "District of Columbia    601,723.00000              nan      nan   3.00000   \n",
       "Wyoming                 563,626.00000          0.79566  1.00000   3.00000   \n",
       "\n",
       "                      Fraction EC Votes  Fraction Total Pop  \n",
       "California                      0.10223             0.12066  \n",
       "Texas                           0.07063             0.08144  \n",
       "New York                        0.05390             0.06276  \n",
       "Florida                         0.05390             0.06090  \n",
       "Illinois                        0.03717             0.04156  \n",
       "Pennsylvania                    0.03717             0.04114  \n",
       "Ohio                            0.03346             0.03737  \n",
       "Michigan                        0.02974             0.03201  \n",
       "Georgia                         0.02974             0.03138  \n",
       "North Carolina                  0.02788             0.03088  \n",
       "New Jersey                      0.02602             0.02848  \n",
       "Virginia                        0.02416             0.02591  \n",
       "Washington                      0.02230             0.02178  \n",
       "Massachusetts                   0.02045             0.02121  \n",
       "Indiana                         0.02045             0.02100  \n",
       "Arizona                         0.02045             0.02070  \n",
       "Tennessee                       0.02045             0.02055  \n",
       "Missouri                        0.01859             0.01940  \n",
       "Maryland                        0.01859             0.01870  \n",
       "Wisconsin                       0.01859             0.01842  \n",
       "Minnesota                       0.01859             0.01718  \n",
       "Colorado                        0.01673             0.01629  \n",
       "Alabama                         0.01673             0.01548  \n",
       "South Carolina                  0.01673             0.01498  \n",
       "Louisiana                       0.01487             0.01468  \n",
       "Kentucky                        0.01487             0.01405  \n",
       "Oregon                          0.01301             0.01241  \n",
       "Oklahoma                        0.01301             0.01215  \n",
       "Connecticut                     0.01301             0.01158  \n",
       "Iowa                            0.01115             0.00987  \n",
       "Mississippi                     0.01115             0.00961  \n",
       "Arkansas                        0.01115             0.00944  \n",
       "Kansas                          0.01115             0.00924  \n",
       "Utah                            0.01115             0.00895  \n",
       "Nevada                          0.01115             0.00875  \n",
       "New Mexico                      0.00929             0.00667  \n",
       "West Virginia                   0.00929             0.00600  \n",
       "Nebraska                        0.00929             0.00592  \n",
       "Idaho                           0.00743             0.00508  \n",
       "Hawaii                          0.00743             0.00441  \n",
       "Maine                           0.00743             0.00430  \n",
       "New Hampshire                   0.00743             0.00426  \n",
       "Rhode Island                    0.00743             0.00341  \n",
       "Montana                         0.00558             0.00320  \n",
       "Delaware                        0.00558             0.00291  \n",
       "South Dakota                    0.00558             0.00264  \n",
       "Alaska                          0.00558             0.00230  \n",
       "North Dakota                    0.00558             0.00218  \n",
       "Vermont                         0.00558             0.00203  \n",
       "District of Columbia            0.00558             0.00195  \n",
       "Wyoming                         0.00558             0.00183  "
      ]
     },
     "execution_count": 135,
     "metadata": {},
     "output_type": "execute_result"
    }
   ],
   "source": [
    "df.sort_values(\"Fraction Total Pop\", ascending=False)"
   ]
  },
  {
   "cell_type": "code",
   "execution_count": null,
   "metadata": {
    "collapsed": false
   },
   "outputs": [],
   "source": []
  },
  {
   "cell_type": "code",
   "execution_count": null,
   "metadata": {
    "collapsed": true
   },
   "outputs": [],
   "source": []
  },
  {
   "cell_type": "code",
   "execution_count": null,
   "metadata": {
    "collapsed": true
   },
   "outputs": [],
   "source": []
  },
  {
   "cell_type": "code",
   "execution_count": null,
   "metadata": {
    "collapsed": true
   },
   "outputs": [],
   "source": []
  },
  {
   "cell_type": "code",
   "execution_count": null,
   "metadata": {
    "collapsed": true
   },
   "outputs": [],
   "source": []
  },
  {
   "cell_type": "code",
   "execution_count": null,
   "metadata": {
    "collapsed": true
   },
   "outputs": [],
   "source": []
  },
  {
   "cell_type": "code",
   "execution_count": null,
   "metadata": {
    "collapsed": true
   },
   "outputs": [],
   "source": []
  },
  {
   "cell_type": "code",
   "execution_count": null,
   "metadata": {
    "collapsed": true
   },
   "outputs": [],
   "source": []
  },
  {
   "cell_type": "code",
   "execution_count": null,
   "metadata": {
    "collapsed": true
   },
   "outputs": [],
   "source": []
  },
  {
   "cell_type": "code",
   "execution_count": null,
   "metadata": {
    "collapsed": true
   },
   "outputs": [],
   "source": []
  },
  {
   "cell_type": "code",
   "execution_count": null,
   "metadata": {
    "collapsed": true
   },
   "outputs": [],
   "source": []
  },
  {
   "cell_type": "code",
   "execution_count": null,
   "metadata": {
    "collapsed": true
   },
   "outputs": [],
   "source": []
  },
  {
   "cell_type": "code",
   "execution_count": null,
   "metadata": {
    "collapsed": true
   },
   "outputs": [],
   "source": []
  }
 ],
 "metadata": {
  "kernelspec": {
   "display_name": "Python 3",
   "language": "python",
   "name": "python3"
  },
  "language_info": {
   "codemirror_mode": {
    "name": "ipython",
    "version": 3
   },
   "file_extension": ".py",
   "mimetype": "text/x-python",
   "name": "python",
   "nbconvert_exporter": "python",
   "pygments_lexer": "ipython3",
   "version": "3.5.1"
  }
 },
 "nbformat": 4,
 "nbformat_minor": 0
}
